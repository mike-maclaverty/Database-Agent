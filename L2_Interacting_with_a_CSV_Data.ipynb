{
 "cells": [
  {
   "cell_type": "markdown",
   "id": "d792f35b",
   "metadata": {},
   "source": [
    "# Lesson 2: Interacting with a CSV Data"
   ]
  },
  {
   "cell_type": "markdown",
   "id": "6be6d049",
   "metadata": {},
   "source": [
    "## Setup and connect to the Azure OpenAI endpoint"
   ]
  },
  {
   "cell_type": "markdown",
   "id": "399c89a2",
   "metadata": {},
   "source": [
    "**Note**: The pre-configured cloud resource grants you access to the Azure OpenAI GPT model. The key and endpoint provided below are intended for teaching purposes only. Your notebook environment is already set up with the necessary keys, which may differ from those used by the instructor during the filming."
   ]
  },
  {
   "cell_type": "code",
   "execution_count": 1,
   "id": "83ac3e59-d0d1-4110-a059-3a55d0d5e15e",
   "metadata": {
    "height": 217
   },
   "outputs": [],
   "source": [
    "import os \n",
    "import pandas as pd\n",
    "\n",
    "from IPython.display import Markdown, HTML, display\n",
    "from langchain.schema import HumanMessage\n",
    "from langchain_openai import AzureChatOpenAI\n",
    "\n",
    "model = AzureChatOpenAI(\n",
    "    openai_api_version=\"2023-05-15\",\n",
    "    azure_deployment=\"gpt-4-1106\",\n",
    "    azure_endpoint=os.getenv(\"AZURE_OPENAI_ENDPOINT\"),\n",
    ")"
   ]
  },
  {
   "cell_type": "markdown",
   "id": "ba9075a3",
   "metadata": {},
   "source": [
    "## Load the dataset"
   ]
  },
  {
   "cell_type": "markdown",
   "id": "fb0dc855",
   "metadata": {},
   "source": [
    "**Note**: To access the data locally, use the following code:\n",
    "\n",
    "```\n",
    "os.makedirs(\"data\",exist_ok=True)\n",
    "!wget https://covidtracking.com/data/download/all-states-history.csv -P ./data/\n",
    "file_url = \"./data/all-states-history.csv\"\n",
    "df = pd.read_csv(file_url).fillna(value = 0)\n",
    "```"
   ]
  },
  {
   "cell_type": "code",
   "execution_count": 2,
   "id": "b6c75799-55e2-4d39-a1ab-7b968b4f35a4",
   "metadata": {
    "height": 30
   },
   "outputs": [],
   "source": [
    "df = pd.read_csv(\"./data/all-states-history.csv\").fillna(value = 0)"
   ]
  },
  {
   "cell_type": "markdown",
   "id": "a6a261ac",
   "metadata": {},
   "source": [
    "## Prepare the Langchain dataframe agent"
   ]
  },
  {
   "cell_type": "code",
   "execution_count": 3,
   "id": "60d0793b-90e7-4e8b-b2f1-66a8d1cf652d",
   "metadata": {
    "height": 115
   },
   "outputs": [
    {
     "name": "stdout",
     "output_type": "stream",
     "text": [
      "\n",
      "\n",
      "\u001b[1m> Entering new AgentExecutor chain...\u001b[0m\n",
      "\u001b[32;1m\u001b[1;3mThought: To find out how many rows there are in a pandas DataFrame, we can use the `shape` attribute which returns a tuple with the number of rows and columns. We can access the first element of this tuple to get the number of rows.\n",
      "\n",
      "Action: python_repl_ast\n",
      "Action Input: df.shape[0]\n",
      "\u001b[0m\n",
      "Observation: \u001b[36;1m\u001b[1;3m20780\u001b[0m\n",
      "Thought:\u001b[32;1m\u001b[1;3mI now know the final answer.\n",
      "Final Answer: There are 20,780 rows in the dataframe `df`.\u001b[0m\n",
      "\n",
      "\u001b[1m> Finished chain.\u001b[0m\n"
     ]
    },
    {
     "data": {
      "text/plain": [
       "{'input': 'how many rows are there?',\n",
       " 'output': 'There are 20,780 rows in the dataframe `df`.'}"
      ]
     },
     "execution_count": 3,
     "metadata": {},
     "output_type": "execute_result"
    }
   ],
   "source": [
    "from langchain.agents.agent_types import AgentType\n",
    "from langchain_experimental.agents.agent_toolkits import create_pandas_dataframe_agent\n",
    "\n",
    "agent = create_pandas_dataframe_agent(llm=model,df=df,verbose=True)\n",
    "\n",
    "agent.invoke(\"how many rows are there?\")"
   ]
  },
  {
   "cell_type": "markdown",
   "id": "7c6dedce",
   "metadata": {},
   "source": [
    "## Design your prompt and ask your question"
   ]
  },
  {
   "cell_type": "code",
   "execution_count": 5,
   "id": "0d005008-bad6-4458-90ec-6372d9ebe61c",
   "metadata": {
    "height": 523
   },
   "outputs": [
    {
     "name": "stdout",
     "output_type": "stream",
     "text": [
      "\n",
      "\n",
      "\u001b[1m> Entering new AgentExecutor chain...\u001b[0m\n",
      "\u001b[32;1m\u001b[1;3mThought: To display all columns in the dataframe, I'll need to set the pandas display option `display.max_columns` to `None`. After that, I can get the column names of the dataframe.\n",
      "Action: python_repl_ast\n",
      "Action Input: import pandas as pd; pd.set_option('display.max_columns', None)\u001b[0m\n",
      "Observation: \u001b[36;1m\u001b[1;3m\u001b[0m\n",
      "Thought:\u001b[32;1m\u001b[1;3mThe display option for showing all columns should now be set. I can proceed to get the column names of the dataframe.\n",
      "Action: python_repl_ast\n",
      "Action Input: df.columns.tolist()\u001b[0m\n",
      "Observation: \u001b[36;1m\u001b[1;3m['date', 'state', 'death', 'deathConfirmed', 'deathIncrease', 'deathProbable', 'hospitalized', 'hospitalizedCumulative', 'hospitalizedCurrently', 'hospitalizedIncrease', 'inIcuCumulative', 'inIcuCurrently', 'negative', 'negativeIncrease', 'negativeTestsAntibody', 'negativeTestsPeopleAntibody', 'negativeTestsViral', 'onVentilatorCumulative', 'onVentilatorCurrently', 'positive', 'positiveCasesViral', 'positiveIncrease', 'positiveScore', 'positiveTestsAntibody', 'positiveTestsAntigen', 'positiveTestsPeopleAntibody', 'positiveTestsPeopleAntigen', 'positiveTestsViral', 'recovered', 'totalTestEncountersViral', 'totalTestEncountersViralIncrease', 'totalTestResults', 'totalTestResultsIncrease', 'totalTestsAntibody', 'totalTestsAntigen', 'totalTestsPeopleAntibody', 'totalTestsPeopleAntigen', 'totalTestsPeopleViral', 'totalTestsPeopleViralIncrease', 'totalTestsViral', 'totalTestsViralIncrease']\u001b[0m\n",
      "Thought:\u001b[32;1m\u001b[1;3mTo find the number of patients hospitalized during July 2020, I will need to filter the dataframe for the entries corresponding to that month and then sum up the 'hospitalizedCurrently' or 'hospitalizedCumulative' column. However, since we only want the total number of hospitalizations during July and not the end of month cumulative number, 'hospitalizedCurrently' wouldn't be appropriate as it gives the number of people in the hospital on a given day. 'hospitalizedIncrease' might be the better choice as it should represent the daily increase in hospitalizations, which we could sum over the month. But we must check if the 'hospitalizedIncrease' column represents daily new hospitalizations or cumulative numbers. Let's check the description of the 'hospitalizedIncrease' column first to understand what it represents.\n",
      "\n",
      "Action: python_repl_ast\n",
      "Action Input: df['hospitalizedIncrease'].describe()\u001b[0m\n",
      "Observation: \u001b[36;1m\u001b[1;3mcount    20780.000000\n",
      "mean        37.360780\n",
      "std        208.237151\n",
      "min     -12257.000000\n",
      "25%          0.000000\n",
      "50%          0.000000\n",
      "75%         36.000000\n",
      "max      16373.000000\n",
      "Name: hospitalizedIncrease, dtype: float64\u001b[0m\n",
      "Thought:\u001b[32;1m\u001b[1;3mThe description of the 'hospitalizedIncrease' column suggests that it contains a mixture of positive and negative values and varies greatly with a minimum of -12257 and a maximum of 16373. This indicates that the column likely reflects the daily change in the number of hospitalized patients, including corrections to the data which could lead to negative values.\n",
      "\n",
      "To get the number of patients hospitalized during July 2020, I will need to filter the dataframe for dates within July 2020 and then sum the 'hospitalizedIncrease' column to find the total increase over that month. However, we must ensure that the 'date' column is in a datetime format to filter by month.\n",
      "\n",
      "Action: python_repl_ast\n",
      "Action Input: df['date'] = pd.to_datetime(df['date'])\u001b[0m\n",
      "Observation: \u001b[36;1m\u001b[1;3m\u001b[0m\n",
      "Thought:\u001b[32;1m\u001b[1;3mThe 'date' column is now converted to datetime format. I can now proceed to filter the dataframe for entries that fall within July 2020 and then sum up the 'hospitalizedIncrease' column to find the total number of hospitalizations for that month.\n",
      "\n",
      "Action: python_repl_ast\n",
      "Action Input: df_july_2020 = df[(df['date'] >= '2020-07-01') & (df['date'] <= '2020-07-31')]; df_july_2020['hospitalizedIncrease'].sum()\u001b[0m\n",
      "Observation: \u001b[36;1m\u001b[1;3m63105\u001b[0m\n",
      "Thought:\u001b[32;1m\u001b[1;3mThe sum of the 'hospitalizedIncrease' column for July 2020 is 63105. However, I need to check this result with another method to ensure its correctness. Since we have the 'hospitalizedCumulative' column, I could instead compare the cumulative hospitalizations at the end of July 2020 with that at the end of June 2020. This would give another measure of the increase in hospitalizations during July 2020.\n",
      "\n",
      "I will proceed to find the cumulative hospitalizations on the last day of June and the last day of July and then subtract the former from the latter to validate the result from the first method.\n",
      "\n",
      "Action: python_repl_ast\n",
      "Action Input: df_end_july = df[df['date'] == '2020-07-31']['hospitalizedCumulative'].sum(); df_end_june = df[df['date'] == '2020-06-30']['hospitalizedCumulative'].sum(); df_end_july - df_end_june\u001b[0m\n",
      "Observation: \u001b[36;1m\u001b[1;3m63105.0\u001b[0m\n",
      "Thought:\u001b[32;1m\u001b[1;3mThe second method of calculating the difference in 'hospitalizedCumulative' between the end of July and the end of June also resulted in 63105, which matches the result from summing the 'hospitalizedIncrease' column for July 2020. This consistency between two independent methods gives me confidence in the answer.\n",
      "\n",
      "Final Answer:\n",
      "\n",
      "The number of patients hospitalized during July 2020 was 63,105.\n",
      "\n",
      "Explanation:\n",
      "\n",
      "To determine the number of patients hospitalized during July 2020, I used two different methods:\n",
      "\n",
      "1. I filtered the dataframe for the dates within July 2020 and summed the 'hospitalizedIncrease' column, which represents the daily increase in the number of hospitalized patients. This gave a total of 63,105.\n",
      "\n",
      "2. As a second method, I calculated the difference in the 'hospitalizedCumulative' column between the last day of July 2020 and the last day of June 2020. This also resulted in a total increase of 63,105 hospitalizations during July 2020.\n",
      "\n",
      "Both methods produced the same result, which validates the final answer. The column names used to arrive at the final answer are 'hospitalizedIncrease' and 'hospitalizedCumulative'.\u001b[0m\n",
      "\n",
      "\u001b[1m> Finished chain.\u001b[0m\n"
     ]
    },
    {
     "data": {
      "text/plain": [
       "{'input': '\\nFirst set the pandas display options to show all the columns,\\nget the column names, then answer the question.\\nHow may patients were hospitalized during July 2020\\n- **ALWAYS** before giving the Final Answer, try another method.\\nThen reflect on the answers of the two methods you did and ask yourself\\nif it answers correctly the original question.\\nIf you are not sure, try another method.\\n- If the methods tried do not give the same result,reflect and\\ntry again until you have two methods that have the same result.\\n- If you still cannot arrive to a consistent result, say that\\nyou are not sure of the answer.\\n- If you are sure of the correct answer, create a beautiful\\nand thorough response using Markdown.\\n- **DO NOT MAKE UP AN ANSWER OR USE PRIOR KNOWLEDGE,\\nONLY USE THE RESULTS OF THE CALCULATIONS YOU HAVE DONE**.\\n- **ALWAYS**, as part of your \"Final Answer\", explain how you got\\nto the answer on a section that starts with: \"\\n\\nExplanation:\\n\".\\nIn the explanation, mention the column names that you used to get\\nto the final answer.\\n',\n",
       " 'output': \"The number of patients hospitalized during July 2020 was 63,105.\\n\\nExplanation:\\n\\nTo determine the number of patients hospitalized during July 2020, I used two different methods:\\n\\n1. I filtered the dataframe for the dates within July 2020 and summed the 'hospitalizedIncrease' column, which represents the daily increase in the number of hospitalized patients. This gave a total of 63,105.\\n\\n2. As a second method, I calculated the difference in the 'hospitalizedCumulative' column between the last day of July 2020 and the last day of June 2020. This also resulted in a total increase of 63,105 hospitalizations during July 2020.\\n\\nBoth methods produced the same result, which validates the final answer. The column names used to arrive at the final answer are 'hospitalizedIncrease' and 'hospitalizedCumulative'.\"}"
      ]
     },
     "execution_count": 5,
     "metadata": {},
     "output_type": "execute_result"
    }
   ],
   "source": [
    "CSV_PROMPT_PREFIX = \"\"\"\n",
    "First set the pandas display options to show all the columns,\n",
    "get the column names, then answer the question.\n",
    "\"\"\"\n",
    "\n",
    "CSV_PROMPT_SUFFIX = \"\"\"\n",
    "- **ALWAYS** before giving the Final Answer, try another method.\n",
    "Then reflect on the answers of the two methods you did and ask yourself\n",
    "if it answers correctly the original question.\n",
    "If you are not sure, try another method.\n",
    "- If the methods tried do not give the same result,reflect and\n",
    "try again until you have two methods that have the same result.\n",
    "- If you still cannot arrive to a consistent result, say that\n",
    "you are not sure of the answer.\n",
    "- If you are sure of the correct answer, create a beautiful\n",
    "and thorough response using Markdown.\n",
    "- **DO NOT MAKE UP AN ANSWER OR USE PRIOR KNOWLEDGE,\n",
    "ONLY USE THE RESULTS OF THE CALCULATIONS YOU HAVE DONE**.\n",
    "- **ALWAYS**, as part of your \"Final Answer\", explain how you got\n",
    "to the answer on a section that starts with: \"\\n\\nExplanation:\\n\".\n",
    "In the explanation, mention the column names that you used to get\n",
    "to the final answer.\n",
    "\"\"\"\n",
    "\n",
    "QUESTION = \"How may patients were hospitalized during July 2020\" \n",
    "\"in Texas, and nationwide as the total of all states?\"\n",
    "\"Use the hospitalizedIncrease column\" \n",
    "\n",
    "\n",
    "agent.invoke(CSV_PROMPT_PREFIX + QUESTION + CSV_PROMPT_SUFFIX)"
   ]
  },
  {
   "cell_type": "code",
   "execution_count": null,
   "id": "fc7092d6",
   "metadata": {
    "height": 30
   },
   "outputs": [],
   "source": []
  }
 ],
 "metadata": {
  "kernelspec": {
   "display_name": "Python 3 (ipykernel)",
   "language": "python",
   "name": "python3"
  },
  "language_info": {
   "codemirror_mode": {
    "name": "ipython",
    "version": 3
   },
   "file_extension": ".py",
   "mimetype": "text/x-python",
   "name": "python",
   "nbconvert_exporter": "python",
   "pygments_lexer": "ipython3",
   "version": "3.11.9"
  }
 },
 "nbformat": 4,
 "nbformat_minor": 5
}
